{
 "cells": [
  {
   "cell_type": "markdown",
   "id": "3f4968e2",
   "metadata": {},
   "source": [
    "# Numpy code practice"
   ]
  },
  {
   "cell_type": "code",
   "execution_count": 3,
   "id": "cc0e8df7",
   "metadata": {},
   "outputs": [],
   "source": [
    "import numpy as np"
   ]
  },
  {
   "cell_type": "code",
   "execution_count": 5,
   "id": "e99b1320",
   "metadata": {},
   "outputs": [],
   "source": [
    "arr= np.array([[1,2,3],\n",
    "             [4,5,6]])"
   ]
  },
  {
   "cell_type": "code",
   "execution_count": 6,
   "id": "bbe4d6f4",
   "metadata": {},
   "outputs": [
    {
     "data": {
      "text/plain": [
       "array([[1, 2, 3],\n",
       "       [4, 5, 6]])"
      ]
     },
     "execution_count": 6,
     "metadata": {},
     "output_type": "execute_result"
    }
   ],
   "source": [
    "arr"
   ]
  },
  {
   "cell_type": "code",
   "execution_count": 7,
   "id": "b3a80a9b",
   "metadata": {},
   "outputs": [
    {
     "data": {
      "text/plain": [
       "numpy.ndarray"
      ]
     },
     "execution_count": 7,
     "metadata": {},
     "output_type": "execute_result"
    }
   ],
   "source": [
    "type(arr)"
   ]
  },
  {
   "cell_type": "code",
   "execution_count": 9,
   "id": "15555f98",
   "metadata": {},
   "outputs": [
    {
     "data": {
      "text/plain": [
       "(2, 3)"
      ]
     },
     "execution_count": 9,
     "metadata": {},
     "output_type": "execute_result"
    }
   ],
   "source": [
    "arr.shape"
   ]
  },
  {
   "cell_type": "code",
   "execution_count": 10,
   "id": "1383f560",
   "metadata": {},
   "outputs": [
    {
     "data": {
      "text/plain": [
       "2"
      ]
     },
     "execution_count": 10,
     "metadata": {},
     "output_type": "execute_result"
    }
   ],
   "source": [
    "arr.ndim"
   ]
  },
  {
   "cell_type": "code",
   "execution_count": 11,
   "id": "303ff327",
   "metadata": {},
   "outputs": [
    {
     "name": "stdout",
     "output_type": "stream",
     "text": [
      "size of the array:  6\n"
     ]
    }
   ],
   "source": [
    "print (\"size of the array: \",arr.size)"
   ]
  },
  {
   "cell_type": "code",
   "execution_count": 12,
   "id": "abb0ccdc",
   "metadata": {},
   "outputs": [
    {
     "name": "stdout",
     "output_type": "stream",
     "text": [
      "data type is  int32\n"
     ]
    }
   ],
   "source": [
    "print (\"data type is \",arr.dtype)"
   ]
  },
  {
   "cell_type": "markdown",
   "id": "0b274d9e",
   "metadata": {},
   "source": [
    "## Creating arrays using functions"
   ]
  },
  {
   "cell_type": "code",
   "execution_count": 13,
   "id": "aeebfcd8",
   "metadata": {},
   "outputs": [],
   "source": [
    "a = np.array([[1,2,3],[4,5,6]], dtype='float')"
   ]
  },
  {
   "cell_type": "code",
   "execution_count": 15,
   "id": "64a7d603",
   "metadata": {},
   "outputs": [
    {
     "name": "stdout",
     "output_type": "stream",
     "text": [
      "array from list :\n",
      " [[1. 2. 3.]\n",
      " [4. 5. 6.]]\n"
     ]
    }
   ],
   "source": [
    "print (\"array from list :\\n\",a)"
   ]
  },
  {
   "cell_type": "code",
   "execution_count": 16,
   "id": "08a6bd23",
   "metadata": {},
   "outputs": [],
   "source": [
    "b= np.array((1,2,3))"
   ]
  },
  {
   "cell_type": "code",
   "execution_count": 17,
   "id": "2318043a",
   "metadata": {},
   "outputs": [
    {
     "name": "stdout",
     "output_type": "stream",
     "text": [
      "array from tupple:\n",
      " [1 2 3]\n"
     ]
    }
   ],
   "source": [
    "print(\"array from tupple:\\n\",b)"
   ]
  },
  {
   "cell_type": "code",
   "execution_count": 19,
   "id": "fee9e9ed",
   "metadata": {},
   "outputs": [],
   "source": [
    "c= np.zeros((3,4))"
   ]
  },
  {
   "cell_type": "code",
   "execution_count": 20,
   "id": "fd6d28e4",
   "metadata": {},
   "outputs": [
    {
     "name": "stdout",
     "output_type": "stream",
     "text": [
      "zero matrix:\n",
      " [[0. 0. 0. 0.]\n",
      " [0. 0. 0. 0.]\n",
      " [0. 0. 0. 0.]]\n"
     ]
    }
   ],
   "source": [
    "print(\"zero matrix:\\n\",c)"
   ]
  },
  {
   "cell_type": "code",
   "execution_count": 21,
   "id": "e284e908",
   "metadata": {},
   "outputs": [],
   "source": [
    "d=np.ones((5,5))"
   ]
  },
  {
   "cell_type": "code",
   "execution_count": 22,
   "id": "f441d436",
   "metadata": {},
   "outputs": [
    {
     "name": "stdout",
     "output_type": "stream",
     "text": [
      "ones matrix:\n",
      " [[1. 1. 1. 1. 1.]\n",
      " [1. 1. 1. 1. 1.]\n",
      " [1. 1. 1. 1. 1.]\n",
      " [1. 1. 1. 1. 1.]\n",
      " [1. 1. 1. 1. 1.]]\n"
     ]
    }
   ],
   "source": [
    "print(\"ones matrix:\\n\",d)"
   ]
  },
  {
   "cell_type": "code",
   "execution_count": 23,
   "id": "a185bc41",
   "metadata": {},
   "outputs": [],
   "source": [
    "e =np.eye(8,)"
   ]
  },
  {
   "cell_type": "code",
   "execution_count": 24,
   "id": "e8b0ba59",
   "metadata": {},
   "outputs": [
    {
     "name": "stdout",
     "output_type": "stream",
     "text": [
      "identity matrix:\n",
      " [[1. 0. 0. 0. 0. 0. 0. 0.]\n",
      " [0. 1. 0. 0. 0. 0. 0. 0.]\n",
      " [0. 0. 1. 0. 0. 0. 0. 0.]\n",
      " [0. 0. 0. 1. 0. 0. 0. 0.]\n",
      " [0. 0. 0. 0. 1. 0. 0. 0.]\n",
      " [0. 0. 0. 0. 0. 1. 0. 0.]\n",
      " [0. 0. 0. 0. 0. 0. 1. 0.]\n",
      " [0. 0. 0. 0. 0. 0. 0. 1.]]\n"
     ]
    }
   ],
   "source": [
    "print(\"identity matrix:\\n\",e)"
   ]
  },
  {
   "cell_type": "code",
   "execution_count": 25,
   "id": "9b82df71",
   "metadata": {},
   "outputs": [],
   "source": [
    "f =np.arange(0,100,2)"
   ]
  },
  {
   "cell_type": "code",
   "execution_count": 26,
   "id": "f191ebb5",
   "metadata": {},
   "outputs": [
    {
     "data": {
      "text/plain": [
       "array([ 0,  2,  4,  6,  8, 10, 12, 14, 16, 18, 20, 22, 24, 26, 28, 30, 32,\n",
       "       34, 36, 38, 40, 42, 44, 46, 48, 50, 52, 54, 56, 58, 60, 62, 64, 66,\n",
       "       68, 70, 72, 74, 76, 78, 80, 82, 84, 86, 88, 90, 92, 94, 96, 98])"
      ]
     },
     "execution_count": 26,
     "metadata": {},
     "output_type": "execute_result"
    }
   ],
   "source": [
    "f"
   ]
  },
  {
   "cell_type": "code",
   "execution_count": 27,
   "id": "01a3e05c",
   "metadata": {},
   "outputs": [],
   "source": [
    "g = np.linspace(100,101,50)"
   ]
  },
  {
   "cell_type": "code",
   "execution_count": 28,
   "id": "1824c373",
   "metadata": {},
   "outputs": [
    {
     "data": {
      "text/plain": [
       "array([100.        , 100.02040816, 100.04081633, 100.06122449,\n",
       "       100.08163265, 100.10204082, 100.12244898, 100.14285714,\n",
       "       100.16326531, 100.18367347, 100.20408163, 100.2244898 ,\n",
       "       100.24489796, 100.26530612, 100.28571429, 100.30612245,\n",
       "       100.32653061, 100.34693878, 100.36734694, 100.3877551 ,\n",
       "       100.40816327, 100.42857143, 100.44897959, 100.46938776,\n",
       "       100.48979592, 100.51020408, 100.53061224, 100.55102041,\n",
       "       100.57142857, 100.59183673, 100.6122449 , 100.63265306,\n",
       "       100.65306122, 100.67346939, 100.69387755, 100.71428571,\n",
       "       100.73469388, 100.75510204, 100.7755102 , 100.79591837,\n",
       "       100.81632653, 100.83673469, 100.85714286, 100.87755102,\n",
       "       100.89795918, 100.91836735, 100.93877551, 100.95918367,\n",
       "       100.97959184, 101.        ])"
      ]
     },
     "execution_count": 28,
     "metadata": {},
     "output_type": "execute_result"
    }
   ],
   "source": [
    "g"
   ]
  },
  {
   "cell_type": "code",
   "execution_count": 29,
   "id": "fed9c1af",
   "metadata": {},
   "outputs": [],
   "source": [
    "h=f.reshape(5,5,2)"
   ]
  },
  {
   "cell_type": "code",
   "execution_count": 30,
   "id": "a93a0bde",
   "metadata": {},
   "outputs": [
    {
     "data": {
      "text/plain": [
       "array([[[ 0,  2],\n",
       "        [ 4,  6],\n",
       "        [ 8, 10],\n",
       "        [12, 14],\n",
       "        [16, 18]],\n",
       "\n",
       "       [[20, 22],\n",
       "        [24, 26],\n",
       "        [28, 30],\n",
       "        [32, 34],\n",
       "        [36, 38]],\n",
       "\n",
       "       [[40, 42],\n",
       "        [44, 46],\n",
       "        [48, 50],\n",
       "        [52, 54],\n",
       "        [56, 58]],\n",
       "\n",
       "       [[60, 62],\n",
       "        [64, 66],\n",
       "        [68, 70],\n",
       "        [72, 74],\n",
       "        [76, 78]],\n",
       "\n",
       "       [[80, 82],\n",
       "        [84, 86],\n",
       "        [88, 90],\n",
       "        [92, 94],\n",
       "        [96, 98]]])"
      ]
     },
     "execution_count": 30,
     "metadata": {},
     "output_type": "execute_result"
    }
   ],
   "source": [
    "h"
   ]
  },
  {
   "cell_type": "code",
   "execution_count": 31,
   "id": "b570b589",
   "metadata": {},
   "outputs": [],
   "source": [
    "i=e.flatten()"
   ]
  },
  {
   "cell_type": "code",
   "execution_count": 32,
   "id": "e6de5199",
   "metadata": {},
   "outputs": [
    {
     "data": {
      "text/plain": [
       "array([1., 0., 0., 0., 0., 0., 0., 0., 0., 1., 0., 0., 0., 0., 0., 0., 0.,\n",
       "       0., 1., 0., 0., 0., 0., 0., 0., 0., 0., 1., 0., 0., 0., 0., 0., 0.,\n",
       "       0., 0., 1., 0., 0., 0., 0., 0., 0., 0., 0., 1., 0., 0., 0., 0., 0.,\n",
       "       0., 0., 0., 1., 0., 0., 0., 0., 0., 0., 0., 0., 1.])"
      ]
     },
     "execution_count": 32,
     "metadata": {},
     "output_type": "execute_result"
    }
   ],
   "source": [
    "i"
   ]
  },
  {
   "cell_type": "code",
   "execution_count": 42,
   "id": "d21b7733",
   "metadata": {},
   "outputs": [
    {
     "data": {
      "text/plain": [
       "array([[1., 0., 0., 0., 0., 0., 0., 0.],\n",
       "       [0., 1., 0., 0., 0., 0., 0., 0.],\n",
       "       [0., 0., 1., 0., 0., 0., 0., 0.],\n",
       "       [0., 0., 0., 1., 0., 0., 0., 0.],\n",
       "       [0., 0., 0., 0., 1., 0., 0., 0.],\n",
       "       [0., 0., 0., 0., 0., 1., 0., 0.],\n",
       "       [0., 0., 0., 0., 0., 0., 1., 0.],\n",
       "       [0., 0., 0., 0., 0., 0., 0., 1.]])"
      ]
     },
     "execution_count": 42,
     "metadata": {},
     "output_type": "execute_result"
    }
   ],
   "source": [
    "e\n"
   ]
  },
  {
   "cell_type": "markdown",
   "id": "1ba097d8",
   "metadata": {},
   "source": [
    "## Index"
   ]
  },
  {
   "cell_type": "code",
   "execution_count": 34,
   "id": "972dd530",
   "metadata": {},
   "outputs": [],
   "source": [
    "temp=e[:4,4:]"
   ]
  },
  {
   "cell_type": "code",
   "execution_count": 35,
   "id": "ee31ba1e",
   "metadata": {},
   "outputs": [
    {
     "data": {
      "text/plain": [
       "array([[0., 0., 0., 0.],\n",
       "       [0., 0., 0., 0.],\n",
       "       [0., 0., 0., 0.],\n",
       "       [0., 0., 0., 0.]])"
      ]
     },
     "execution_count": 35,
     "metadata": {},
     "output_type": "execute_result"
    }
   ],
   "source": [
    "temp"
   ]
  },
  {
   "cell_type": "code",
   "execution_count": 36,
   "id": "f45db66d",
   "metadata": {},
   "outputs": [],
   "source": [
    "temp=e[:4:2,4::3]"
   ]
  },
  {
   "cell_type": "code",
   "execution_count": 37,
   "id": "9bc88031",
   "metadata": {},
   "outputs": [
    {
     "data": {
      "text/plain": [
       "array([[0., 0.],\n",
       "       [0., 0.]])"
      ]
     },
     "execution_count": 37,
     "metadata": {},
     "output_type": "execute_result"
    }
   ],
   "source": [
    "temp"
   ]
  },
  {
   "cell_type": "code",
   "execution_count": 38,
   "id": "a463c386",
   "metadata": {},
   "outputs": [],
   "source": [
    "cond = e>0\n",
    "temp=e[cond]"
   ]
  },
  {
   "cell_type": "code",
   "execution_count": 39,
   "id": "860fa0f7",
   "metadata": {},
   "outputs": [
    {
     "data": {
      "text/plain": [
       "array([1., 1., 1., 1., 1., 1., 1., 1.])"
      ]
     },
     "execution_count": 39,
     "metadata": {},
     "output_type": "execute_result"
    }
   ],
   "source": [
    "temp"
   ]
  },
  {
   "cell_type": "markdown",
   "id": "d6cf32af",
   "metadata": {},
   "source": [
    "## Operations"
   ]
  },
  {
   "cell_type": "code",
   "execution_count": 40,
   "id": "3583ed81",
   "metadata": {},
   "outputs": [],
   "source": [
    "h=arr+1\n"
   ]
  },
  {
   "cell_type": "code",
   "execution_count": 41,
   "id": "4e27e1b8",
   "metadata": {},
   "outputs": [
    {
     "data": {
      "text/plain": [
       "array([[2, 3, 4],\n",
       "       [5, 6, 7]])"
      ]
     },
     "execution_count": 41,
     "metadata": {},
     "output_type": "execute_result"
    }
   ],
   "source": [
    "h"
   ]
  },
  {
   "cell_type": "code",
   "execution_count": 44,
   "id": "fed99fc2",
   "metadata": {},
   "outputs": [],
   "source": [
    "i=arr-10\n",
    "j=arr*10\n",
    "k=arr**3\n"
   ]
  },
  {
   "cell_type": "code",
   "execution_count": 45,
   "id": "935a245c",
   "metadata": {},
   "outputs": [
    {
     "data": {
      "text/plain": [
       "array([[-9, -8, -7],\n",
       "       [-6, -5, -4]])"
      ]
     },
     "execution_count": 45,
     "metadata": {},
     "output_type": "execute_result"
    }
   ],
   "source": [
    "i"
   ]
  },
  {
   "cell_type": "code",
   "execution_count": 46,
   "id": "74a1c324",
   "metadata": {},
   "outputs": [
    {
     "data": {
      "text/plain": [
       "array([[10, 20, 30],\n",
       "       [40, 50, 60]])"
      ]
     },
     "execution_count": 46,
     "metadata": {},
     "output_type": "execute_result"
    }
   ],
   "source": [
    "j"
   ]
  },
  {
   "cell_type": "code",
   "execution_count": 47,
   "id": "f5fbf25c",
   "metadata": {},
   "outputs": [
    {
     "data": {
      "text/plain": [
       "array([[  1,   8,  27],\n",
       "       [ 64, 125, 216]], dtype=int32)"
      ]
     },
     "execution_count": 47,
     "metadata": {},
     "output_type": "execute_result"
    }
   ],
   "source": [
    "k"
   ]
  },
  {
   "cell_type": "code",
   "execution_count": 48,
   "id": "ddd25cd4",
   "metadata": {},
   "outputs": [],
   "source": [
    "arr*=3"
   ]
  },
  {
   "cell_type": "code",
   "execution_count": 49,
   "id": "6ea575ed",
   "metadata": {},
   "outputs": [
    {
     "data": {
      "text/plain": [
       "array([[ 3,  6,  9],\n",
       "       [12, 15, 18]])"
      ]
     },
     "execution_count": 49,
     "metadata": {},
     "output_type": "execute_result"
    }
   ],
   "source": [
    "arr"
   ]
  },
  {
   "cell_type": "code",
   "execution_count": null,
   "id": "9cb4881d",
   "metadata": {},
   "outputs": [],
   "source": []
  }
 ],
 "metadata": {
  "kernelspec": {
   "display_name": "Python 3",
   "language": "python",
   "name": "python3"
  },
  "language_info": {
   "codemirror_mode": {
    "name": "ipython",
    "version": 3
   },
   "file_extension": ".py",
   "mimetype": "text/x-python",
   "name": "python",
   "nbconvert_exporter": "python",
   "pygments_lexer": "ipython3",
   "version": "3.8.8"
  }
 },
 "nbformat": 4,
 "nbformat_minor": 5
}
